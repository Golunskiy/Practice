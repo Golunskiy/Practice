{
  "nbformat": 4,
  "nbformat_minor": 0,
  "metadata": {
    "colab": {
      "name": "Practice_5.ipynb",
      "provenance": [],
      "collapsed_sections": [
        "193Kzrii8JCG",
        "3txUK3KJUdkf",
        "n1mNKt9JzLSj"
      ]
    },
    "kernelspec": {
      "name": "Python 3.6.5 64-bit",
      "display_name": "Python 3.6.5 64-bit",
      "metadata": {
        "interpreter": {
          "hash": "3d615ca99d2c172a6c3b523c9aca9265fe135d943436496d038243e266a1e53c"
        }
      }
    }
  },
  "cells": [
    {
      "cell_type": "markdown",
      "metadata": {
        "id": "FMqboNwO4rVs"
      },
      "source": [
        "# **Курс \"Програмування на мові Python\"**\n",
        "\n",
        "##### Викладачі:\n",
        "##### Борисенко Павло Борисович\n",
        "##### Щьоголєв Максим Олегович\n"
      ]
    },
    {
      "cell_type": "markdown",
      "metadata": {
        "id": "A2T6MigL5Z06"
      },
      "source": [
        "## **Практичне зайняття №5**\n",
        "### Тема: \"Робота з кортежами, множинами та словниками\""
      ]
    },
    {
      "source": [
        "### **Завдання 1 (1,5 бали)**\n",
        "\n",
        "Напишіть програму, яка визначала б, чи можна з літер однієї фрази скласти іншу фразу. Наприклад:\n",
        "\n",
        "\"William Shakespeare\" -> \"A small spark\"\n",
        "\n",
        "Перша фраза містить 11 унікальних літер (хоча деякі повторюються): a, e, h, i, k, l, m, p, r, s та w. Друга фраза містить 7 унікальних літер: a, k, l, m, p, r та s. Кожна з літер другої фрази зустрічається принаймні один раз у першій фразі.\n",
        "\n",
        "1. Обидві фрази повинні вводитись користувачем з клавіатури.\n",
        "\n",
        "2. Скористайтесь властивістю множин у мові програмування Python для виділення колекції унікальних літер.\n",
        "\n",
        "3. У множину не повинні потрапити пробіли, розділові знаки та інші символи, що не є літерами (скористайтесь методом **isalpha()**). Також усі літери мають бути переведені в нижній або верхній регістр (скористайтесь методами **lower()** або **upper()**).\n",
        "\n",
        "4. Зверніть увагу на те, що літери як в першій, так і вдругій фразі можуть повторюватись. Однак множина унікальних літер другої фрази повинна бути підмножиною множини унікальних літер першої фрази.\n",
        "\n",
        "5. У складі змістовного повідомлення програма повинна виводити множину літер першої фрази, множину літер другої фрази, а також змістовне повідомлення про те, чи можна скласти з літер першої фрази другу фразу."
      ],
      "cell_type": "markdown",
      "metadata": {}
    },
    {
      "cell_type": "code",
      "execution_count": null,
      "metadata": {},
      "outputs": [],
      "source": [
        "ak=input('Введіть першу фразу - ')\n",
        "\n",
        "a=ak.lower()\n",
        "bk = input('Введіть другу фразу - ')\n",
        "b=bk.lower()\n",
        "a1=[]\n",
        "b1=[]\n",
        "for i in range(len(a)):\n",
        "    if a[i].isalpha() == True:\n",
        "        a1.append(a[i])\n",
        "\n",
        "for i in range(len(b)):\n",
        "    if b[i].isalpha() == True:\n",
        "        b1.append(b[i])\n",
        "\n",
        "\n",
        "a2=[]\n",
        "b2=[]\n",
        "set_res = set(a1)\n",
        "\n",
        "list_res = (list(set_res))\n",
        "\n",
        "for item in list_res:\n",
        "    a2.append(item)\n",
        "\n",
        "set_res = set(b1)\n",
        "\n",
        "list_res = (list(set_res))\n",
        "\n",
        "for item in list_res:\n",
        "    b2.append(item)\n",
        "\n",
        "\n",
        "\n",
        "k=True\n",
        "i=0\n",
        "while k == True:\n",
        "    try:\n",
        "        if b2[i] in a1:\n",
        "            k=True\n",
        "        else:\n",
        "            k=False\n",
        "        i+=1\n",
        "    except:\n",
        "        break\n",
        "\n",
        "\n",
        "if k == True:\n",
        "    print(f'{ak} - > {bk} Другу фразу можна скласти з першої')\n",
        "else:\n",
        "    print(f'{ak} x {bk} Другу фразу не можна скласти з першої')\n"
      ]
    },
    {
      "source": [
        "### **Завдання 2 (1,5 бали)**\n",
        "\n",
        "На сотовому телефоні повідомлення пишуться за допомогою кнопок з цифрами. Оскільки кожна кнопка містить кілька символів, потрібно натискати на неї кілька разів, щоб надрукувати деякі з них. Якщо написнути кнопку один раз, генерується перший із доступних для цієї кнопки символів. Якщо натиснути два, три, чотири чи п'ять разів, генеруються другий, третій, четвертий чи п'ятий символи віповідно. Повний перелік кнопок (цифр) та символів, які генеруються за допомогою цих кнопок, подано у таблиці.\n",
        "\n",
        "Кнопка | Символи\n",
        "--- | ---\n",
        "1 | . , ? ! :\n",
        "2 | A B C\n",
        "3 | D E F\n",
        "4 | G H I\n",
        "5 | J K L\n",
        "6 | M N O\n",
        "7 | P Q R S\n",
        "8 | T U V\n",
        "9 | W X Y Z\n",
        "0 | space\n",
        "\n",
        "Напишіть програму, яка генеруватиме номери кнопок, які потрібно натиснути для введення певного рядка, з урахуванням кількості натискань кожної кнопки. Рядок має вводити користувач. Скористайтесь словником для збереження усіх номерів кнопок та переліку символів, що їм відповідають.\n",
        "\n",
        "Наприклад, якщо користувач ввів \"Hello, World!\", програма повинна вивести:\n",
        "\n",
        "4433555555666110966677755531111\n",
        "\n",
        "Програма повинна приймати літери як верхнього, так і нижнього регістрів. Усі символи, які не входять до переліку, поданому у таблиці, повинні ігноруватись програмою."
      ],
      "cell_type": "markdown",
      "metadata": {}
    },
    {
      "cell_type": "code",
      "execution_count": null,
      "metadata": {},
      "outputs": [],
      "source": [
        "def get_multiplier(unit):\n",
        "    if unit in '.,&!:':\n",
        "        x='.,&!:'\n",
        "        g=unit\n",
        "        for i in range(x.index(g)+1):\n",
        "            print(1,end='')\n",
        "    if unit in 'abc':\n",
        "        x='abc'\n",
        "        g=unit\n",
        "        for i in range(x.index(g)+1):\n",
        "            print(2,end='')\n",
        "    if unit in 'def':\n",
        "        x='def'\n",
        "        g=unit\n",
        "        for i in range(x.index(g)+1):\n",
        "            print(3,end='')\n",
        "    if unit in 'ghi':\n",
        "        x='ghi'\n",
        "        g=unit\n",
        "        for i in range(x.index(g)+1):\n",
        "            print(4,end='')\n",
        "    if unit in 'jkl':\n",
        "        x='jkl'\n",
        "        g=unit\n",
        "        for i in range(x.index(g)+1):\n",
        "            print(5,end='')\n",
        "    if unit in 'mno':\n",
        "        x='mno'\n",
        "        g=unit\n",
        "        for i in range(x.index(g)+1):\n",
        "            print(6,end='')\n",
        "    if unit in 'pqrs':\n",
        "        x='pqrs'\n",
        "        g=unit\n",
        "        for i in range(x.index(g)+1):\n",
        "            print(7,end='')\n",
        "    if unit in 'tuv':\n",
        "        x='tuv'\n",
        "        g=unit\n",
        "        for i in range(x.index(g)+1):\n",
        "            print(8,end='')\n",
        "    if unit in 'wxyz':\n",
        "        x='wxyz'\n",
        "        g=unit\n",
        "        for i in range(x.index(g)+1):\n",
        "            print(9,end='')\n",
        "    if unit in ' ':\n",
        "        x=' '\n",
        "        g=unit\n",
        "        for i in range(x.index(g)+1):\n",
        "            print(0,end='')\n",
        "\n",
        "\n",
        "m= input('Введіть строчку - ')\n",
        "m=m.lower()\n",
        "\n",
        "for i in range(len(m)):\n",
        "    try:\n",
        "        get_multiplier(m[i])\n",
        "    except:\n",
        "        print('',end='')\n"
      ]
    },
    {
      "cell_type": "code",
      "execution_count": null,
      "metadata": {},
      "outputs": [],
      "source": []
    }
  ]
}