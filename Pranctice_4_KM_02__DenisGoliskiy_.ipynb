{
  "nbformat": 4,
  "nbformat_minor": 0,
  "metadata": {
    "colab": {
      "name": "Pranctice_3_KM-01_<name>.ipynb",
      "provenance": [],
      "collapsed_sections": []
    },
    "kernelspec": {
      "name": "Python 3.6.5 64-bit",
      "display_name": "Python 3.6.5 64-bit",
      "metadata": {
        "interpreter": {
          "hash": "3d615ca99d2c172a6c3b523c9aca9265fe135d943436496d038243e266a1e53c"
        }
      }
    }
  },
  "cells": [
    {
      "cell_type": "markdown",
      "metadata": {
        "id": "1bRxWHr5e8kt"
      },
      "source": [
        "# **Курс \"Програмування на мові Python\"**\n",
        "\n",
        "##### Викладачі:\n",
        "##### Борисенко Павло Борисович\n",
        "##### Щьоголєв Максим Олегович"
      ]
    },
    {
      "cell_type": "markdown",
      "metadata": {
        "id": "buZUwUgFe-kx"
      },
      "source": [
        "## **Практичне зайняття №4**\n",
        "### Тема: \"Цикли. Робота зі списками\""
      ]
    },
    {
      "cell_type": "markdown",
      "metadata": {
        "id": "PUkxEn8EfAUe"
      },
      "source": [
        "### **Завдання 1 (1,5 бали)**\n",
        "\n"
      ]
    },
    {
      "source": [
        "Продавець роздрібного товару влаштовує розпродаж. Для всіх товарів знижка однакова - 60%. Щоб вивісити нові цінники, продавець хоче скласти таблицю, в якій для кожного товару буде підрахована його нова вартість та сума знижки.\n",
        "\n",
        "Написати програму, яка буде генерувати таку таблицю. Вартість одиниць товарів до розпродажу подано у списку products_list. \n",
        "\n",
        "1. Для підрахунку невідомих значень та їх виведення повинен використовуватись цикл.\n",
        "\n",
        "2. Вартість з урахуванням знижки та суми знижок для кожного товару повинні зберігатись у двох окремих списках. Порядок товарів у нових списках повинен бути такий самий, як і в списку products_list.\n",
        "\n",
        "3. Кожне підраховане числове значення має бути округлене до сотих. Для цього слід використати функцію round(). Приклад застосування цієї функції:\n",
        "\n",
        "```\n",
        "value_new = round(2.3741, 2)\n",
        "print(value_new)\n",
        "```\n",
        "\n",
        "4. Дані повинні виводитись у вигляді:\n",
        "\n",
        "**Discount table:**\n",
        "\n",
        "**29.25 11.7 17.55**\n",
        "\n",
        "**48.99 19.6 29.39**\n",
        "\n",
        "**...**\n",
        "\n",
        "\n",
        "products_list = [[29.25, 48.99, 99.98, 124.65, 214.30, 543.90, 799.85]]"
      ],
      "cell_type": "markdown",
      "metadata": {}
    },
    {
      "cell_type": "code",
      "execution_count": 166,
      "metadata": {
        "tags": []
      },
      "outputs": [
        {
          "output_type": "stream",
          "name": "stdout",
          "text": "Discount table: \n \n29.25 17.55 11.7 \n\n48.99 29.39 19.6 \n\n99.98 59.99 39.99 \n\n124.65 74.79 49.86 \n\n214.3 128.58 85.72 \n\n543.9 326.34 217.56 \n\n799.85 479.91 319.94 \n\n"
        }
      ],
      "source": [
        "products_list = [29.25, 48.99, 99.98, 124.65, 214.30, 543.90, 799.85]\n",
        "lenght = len(products_list)\n",
        "new_price_list1 = []\n",
        "rebate_list2 = []\n",
        "print(\"Discount table: \\n \")\n",
        "for i in range (lenght) :\n",
        "    h=round(products_list[i] *0.4, 2)\n",
        "    g=round(products_list[i] *0.6, 2)\n",
        "    new_price_list1.append (g)\n",
        "    rebate_list2.append (h)\n",
        "    print(str(products_list[i])+\" \"+str(new_price_list1[i])+\" \"+str(rebate_list2[i]), \"\\n\")\n",
        "    \n"
      ]
    },
    {
      "source": [
        "### **Завдання 2 (1,5 бали)**"
      ],
      "cell_type": "code",
      "metadata": {},
      "execution_count": null,
      "outputs": []
    },
    {
      "cell_type": "markdown",
      "metadata": {
        "id": "4n4p_pz7gFKM"
      },
      "source": [
        "Перелічуючи деякі предмети у тексті, ми ставимо між ними коми. В англійській мові слово and зазвичай ставлять між останнім та передостаннім словом у переліку (за виключенням випадку, коли у списку всього одне слово). Також в англійській мові прийнято ставити кому перед and (оксфордська кома), якщо в переліку більше двох найменувань. Розглянемо 4 приклади:\n",
        "\n",
        "**apples**\n",
        "\n",
        "**apples and oranges**\n",
        "\n",
        "**apples, oranges, and bananas**\n",
        "\n",
        "**apples, oranges, bananas, and lemons**\n",
        "\n",
        "Напишіть програму, яка:\n",
        "\n",
        "1. отримує на вхід перелік деяких предметів, які користувач вводить з клавіатури, та записує їх у список у вигляді окремих елементів;\n",
        "\n",
        "2. виводить ці предмети у тій самій послідовності, в якій вони були введені, розставляючи коми та слово and так, як показано у прикладі."
      ]
    },
    {
      "cell_type": "code",
      "metadata": {
        "id": "Nv66Jkkpf-sI",
        "tags": []
      },
      "source": [
        "h = \" \"\n",
        "words_list = []\n",
        "while True:\n",
        "    h =str(input(\"Enter words: \"))\n",
        "    if h==\"\":\n",
        "        break\n",
        "    else:\n",
        "        words_list.append (h)\n",
        "length=len(words_list)  \n",
        "if length==1:\n",
        "    print(str(words_list1[0])) \n",
        "elif length==2:\n",
        "    print(str(words_list1[0])+' ' + 'and' ' ' +str(words_list[1]))\n",
        "else:\n",
        "    words_list.insert(-1, 'and')  \n",
        "    for i in range (0, length+1):\n",
        "        if i==length-1 or i==length:\n",
        "            print(words_list[i], end = ' ') \n",
        "        else:\n",
        "            print(str(words_list[i]+', '), end =' ')            \n",
        "\n"
      ],
      "execution_count": 190,
      "outputs": [
        {
          "output_type": "stream",
          "name": "stdout",
          "text": "dasdasdasd,  wasfasfasf,  asfsasgsga,  asgasgsdgsdgh,  asdgasdgasdgh,  asdfhasdfhsdfhaasdfh,  sdfh,  sdfha,  fhsdfhsda,  asdf,  fjsfj,  asdnjadfadfadf,  adfn,  dfndfndfandfn,  sdfahadfhnadfnadfn,  dfanh,  dfnjdfandfnadfan,  s,  ss,  s,  s,  s,  s,  s,  s,  s,  ss,  s,  s,  sssss,  s,  s,  s,  sssssd,  s,  and ssss "
        }
      ]
    },
    {
      "cell_type": "code",
      "execution_count": null,
      "metadata": {},
      "outputs": [],
      "source": []
    }
  ]
}