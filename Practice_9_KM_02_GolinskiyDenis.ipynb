{
  "nbformat": 4,
  "nbformat_minor": 0,
  "metadata": {
    "colab": {
      "name": "Practice_7_KM-01_.ipynb",
      "provenance": [],
      "collapsed_sections": []
    },
    "kernelspec": {
      "name": "python3",
      "display_name": "Python 3.6.5 64-bit",
      "metadata": {
        "interpreter": {
          "hash": "3d615ca99d2c172a6c3b523c9aca9265fe135d943436496d038243e266a1e53c"
        }
      }
    }
  },
  "cells": [
    {
      "cell_type": "markdown",
      "metadata": {
        "id": "FMqboNwO4rVs"
      },
      "source": [
        "# **Курс \"Програмування на мові Python\"**\n",
        "\n",
        "##### Викладачі:\n",
        "##### Борисенко Павло Борисович\n",
        "##### Щьоголєв Максим Олегович\n"
      ]
    },
    {
      "cell_type": "markdown",
      "metadata": {
        "id": "A2T6MigL5Z06"
      },
      "source": [
        "## **Практичне зайняття №9**\n",
        "\n",
        "### Тема: \"Лямбда-функції. Функції вищих порядків\""
      ]
    },
    {
      "cell_type": "markdown",
      "metadata": {
        "id": "cfCdgK2zXm7e"
      },
      "source": [
        "### **Завдання 1 (1 бал)**\n",
        "\n",
        "Продавець роздрібного товару влаштовує розпродаж. Для всіх товарів знижка однакова - 60%. Щоб вивісити нові цінники, продавець хоче скласти таблицю, в якій для кожного товару буде підрахована його нова вартість та сума знижки.\n",
        "\n",
        "Написати програму, яка буде генерувати таку таблицю. Вартість одиниць товарів до розпродажу подано у списку products_list. \n",
        "\n",
        "1. Для підрахунку невідомих значень повинні використовуватись вбудовані функції вищих порядків.\n",
        "\n",
        "2. Вартість з урахуванням знижки та суми знижок для кожного товару повинні зберігатись у двох окремих списках. Порядок товарів у нових списках повинен бути такий самий, як і в списку products_list.\n",
        "\n",
        "3. Кожне підраховане числове значення має бути округлене до сотих.\n",
        "\n",
        "4. Дані повинні виводитись у вигляді:\n",
        "\n",
        "**Discount table:**\n",
        "\n",
        "**29.25 11.7 17.55**\n",
        "\n",
        "**48.99 19.6 29.39**\n",
        "\n",
        "**...**\n",
        "\n",
        "\n",
        "products_list = [[29.25, 48.99, 99.98, 124.65, 214.30, 543.90, 799.85]]\n"
      ]
    },
    {
      "cell_type": "code",
      "metadata": {
        "id": "ifNX2M7LXm7f"
      },
      "source": [
        "products_list = [29.25, 48.99, 99.98, 124.65, 214.30, 543.90, 799.85]\n",
        "sales_list = []\n",
        "new_prices_list = []\n",
        "def sale(x):\n",
        "    y = x *0.4\n",
        "    return round(y,2)\n",
        "def new_price(x):\n",
        "    y = x*0.6\n",
        "    return round(y,2)\n",
        "sales_list = list(map(sale,products_list))\n",
        "new_prices_list = list(map(new_price,products_list))\n",
        "print (\"Discount table:\\n\")\n",
        "def print_table(i):\n",
        "    print(products_list[i],sales_list[i],new_prices_list[i])\n",
        "    print(\"\")\n",
        "l = list(range(0,len(products_list)))\n",
        "list(filter(lambda x: x is not None, map(print_table,l))) \n",
        "print()\n"
      ],
      "execution_count": null,
      "outputs": []
    },
    {
      "source": [
        "### **Завдання 2 (2 бали)**\n",
        "\n",
        "Зазвичай рік має 365 днів. Однак у високосні роки додається ще один день - 29 лютого. Правила визначення високосного року такі:\n",
        "\n",
        "- Будь-який рік, що ділиться на 400 - високосний.\n",
        "\n",
        "- З тих років, що залишились, будь-який рік, що ділиться на 100 - **не** високосний.\n",
        "\n",
        "- З тих років, що залишились, будь-який рік, що ділиться на 4 - високосний.\n",
        "\n",
        "- Усі інші роки, що залишились - **не** високосні.\n",
        "\n",
        "1) Створіть функцію, в якій за допомогою вбудованих функцій вищих порядків будуть визначатися високосні роки серед перелічених років у списку years. Створена функція має повертати список високосних років.\n",
        "\n",
        "2) Створіть функцію вищих порядків, яка прийматиме на вхід попередню функцію та визначатиме кількість днів у місяці. Також функція повинна приймати на вхід ще 2 параметри: ціле число від 1 до 12 (місяць) та рік, як ціле чотирицифрове число. Ці значення корисувач має вводити з клавіатури. Перевірку введених даних слід виконувати поза межами функцій."
      ],
      "cell_type": "markdown",
      "metadata": {}
    },
    {
      "cell_type": "code",
      "execution_count": null,
      "metadata": {},
      "outputs": [],
      "source": [
        "import numpy as np\n",
        "def mount_check(text):\n",
        "    val = input(text)\n",
        "    while type(val) != int:\n",
        "        try:\n",
        "            if (int(val)>12 or int(val) < 1):\n",
        "                val = \"a\"\n",
        "            val = int(val)\n",
        "        except:\n",
        "            val = input(\"Введіть місяці (1-12):  \")\n",
        "    return int(val)\n",
        "def year_check(text):\n",
        "    val = input(text)\n",
        "    while type(val) != int:\n",
        "        try:\n",
        "            if (int(val)>years_list[len(years_list)-1] or int(val) < years_list[0]):\n",
        "                val = \"a\"\n",
        "            val = int(val)\n",
        "        except:\n",
        "            val = input(f\"Введіть рік ({years_list[0]}-{years_list[len(years_list)-1]}):  \")\n",
        "    return int(val)\n",
        "        \n",
        "def leap_year_check(i):\n",
        "    i = years_list[i]\n",
        "    if (i % 400 == 0):\n",
        "        return True\n",
        "    else:\n",
        "        if (i % 100 == 0):\n",
        "            return False\n",
        "        else:\n",
        "            if (i % 4 == 0):\n",
        "                return True\n",
        "            else:\n",
        "                return False\n",
        "\n",
        "def list_add(i):\n",
        "    b = int(years_list[i])\n",
        "    return b \n",
        "\n",
        "def check_leap_of_year(years): \n",
        "    l = range(0,len(years))\n",
        "    k = list(filter(leap_year_check,l))\n",
        "    p = list(map(list_add,k))\n",
        "    return p \n",
        "\n",
        "def check_count_day_of_mounth(function,mounth,year): \n",
        "    function = function(years_list)\n",
        "    if mounth == 2:\n",
        "        if function.count(year) > 0:\n",
        "            return 29\n",
        "        else: \n",
        "            return 28\n",
        "    elif (mounth % 2 == 0):\n",
        "        return 31\n",
        "    else:\n",
        "        return 30\n",
        "\n",
        "years = np.arange(1900, 2020+1, 1)\n",
        "years_list = list(years)\n",
        "print (\"\\nСеред цих років: \\n\\n\",years_list)\n",
        "y = check_leap_of_year(years_list)\n",
        "print (\"\\nВисокосні роки:\\n\\n\",y)\n",
        "mounth_input = mount_check(\"\\nВведіть номер місяця: \")\n",
        "year_input = year_check(\"\\nВведіть рік: \")\n",
        "z = check_count_day_of_mounth(check_leap_of_year,mounth_input,year_input)\n",
        "print (\"\\nКількість днів у \",mounth_input,\" місяці - \" ,z,\" днів\")"
      ]
    },
    {
      "cell_type": "code",
      "execution_count": null,
      "metadata": {},
      "outputs": [],
      "source": []
    }
  ]
}