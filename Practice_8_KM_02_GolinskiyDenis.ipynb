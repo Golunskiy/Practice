{
  "nbformat": 4,
  "nbformat_minor": 0,
  "metadata": {
    "colab": {
      "name": "Practice_7_KM-01_.ipynb",
      "provenance": [],
      "collapsed_sections": []
    },
    "kernelspec": {
      "name": "python3",
      "display_name": "Python 3.6.5 64-bit",
      "metadata": {
        "interpreter": {
          "hash": "3d615ca99d2c172a6c3b523c9aca9265fe135d943436496d038243e266a1e53c"
        }
      }
    }
  },
  "cells": [
    {
      "cell_type": "markdown",
      "metadata": {
        "id": "FMqboNwO4rVs"
      },
      "source": [
        "# **Курс \"Програмування на мові Python\"**\n",
        "\n",
        "##### Викладачі:\n",
        "##### Борисенко Павло Борисович\n",
        "##### Щьоголєв Максим Олегович\n"
      ]
    },
    {
      "cell_type": "markdown",
      "metadata": {
        "id": "A2T6MigL5Z06"
      },
      "source": [
        "## **Практичне зайняття №8**\n",
        "\n",
        "### Тема: \"Робота з функціями. Локальні та глобальні змінні\""
      ]
    },
    {
      "cell_type": "markdown",
      "metadata": {
        "id": "cfCdgK2zXm7e"
      },
      "source": [
        "### **Завдання 1 (3 бали)**\n",
        "\n",
        "**Підрахувати визначник матриці, використовуючи правило перестановок.**\n",
        "\n",
        "Функція random_matrix() призначена для створення квадратної матриці випадкових чисел. Її змінювати непотрібно.\n",
        "\n",
        "Приклад використання методу permutations() для створення списку перестановок також подається у комірці з кодом.\n",
        "\n",
        "1) Створити 3 функції: функцію створення списку перестановок, функцію підрахунку добутків та функцію підрахунку загальної суми.\n",
        "\n",
        "2) Кожна функція має супроводжуватись рядком документації, що буде коротко описувати її призначення.\n",
        "\n",
        "3) Розмірність квадратної матриці має вводитись користувачем з клавіатури. Підрахунки виконувати лише в тому разі, якщо користувач введе ціле додатне число.\n",
        "\n",
        "4) Загальний результат повинен підраховуватись за допомогою композиції функцій.\n",
        "\n",
        "За бажання можна перевірити правильність роботи програми за допомогою функції np.linalg.det(a)."
      ]
    },
    {
      "cell_type": "code",
      "metadata": {
        "id": "ifNX2M7LXm7f"
      },
      "source": [
        "import numpy as np\n",
        "import itertools\n",
        "def count_inversion(lst):\n",
        "    return merge_count_inversion(lst)[1]\n",
        "\n",
        "def merge_count_inversion(lst):\n",
        "    if len(lst) <= 1:\n",
        "        return lst, 0\n",
        "    middle = int( len(lst) / 2 )\n",
        "    left, a = merge_count_inversion(lst[:middle])\n",
        "    right, b = merge_count_inversion(lst[middle:])\n",
        "    result, c = merge_count_split_inversion(left, right)\n",
        "    return result, (a + b + c)\n",
        "\n",
        "def merge_count_split_inversion(left, right):\n",
        "    result = []\n",
        "    count = 0\n",
        "    i, j = 0, 0\n",
        "    left_len = len(left)\n",
        "    while i < left_len and j < len(right):\n",
        "        if left[i] <= right[j]:\n",
        "            result.append(left[i])\n",
        "            i += 1\n",
        "        else:\n",
        "            result.append(right[j])\n",
        "            count += left_len - i\n",
        "            j += 1\n",
        "    result += left[i:]\n",
        "    result += right[j:]\n",
        "    return result, count\n",
        "def random_matrix(dim):\n",
        "    matrix = np.random.randint(10, size = (dim, dim))\n",
        "    return matrix\n",
        "n=int(input('Введите размер матрицы-'))\n",
        "matrix=random_matrix(n)\n",
        "print(matrix)\n",
        "#Example of using permutations() method\n",
        "h=''\n",
        "for i in range(1,n+1):\n",
        "    h+=f'{i}'\n",
        "t = list(itertools.permutations(h, n))\n",
        "s=0\n",
        "for j in range(len(t)):\n",
        "    k=count_inversion(t[j])\n",
        "    k=np.array(k)\n",
        "    m=(-1)**k\n",
        "    for i in range(n):\n",
        "        ko=int(t[j][i])\n",
        "        m*=matrix[i][ko-1]\n",
        "    s+=m\n",
        "print(s)\n",
        "#print(np.linalg.det(matrix))"
      ],
      "execution_count": null,
      "outputs": []
    },
    {
      "cell_type": "code",
      "execution_count": null,
      "metadata": {},
      "outputs": [],
      "source": []
    }
  ]
}